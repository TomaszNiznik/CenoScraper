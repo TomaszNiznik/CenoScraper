{
 "cells": [
  {
   "cell_type": "markdown",
   "metadata": {},
   "source": [
    "# Ceno Analyzer\n",
    "1.Wyświetlenie listy kroków produktów o których zostały pobrane opinie\n",
    "\n",
    "2.Pobranie od uzytkowników kodu produktu którego statystyki mają być policzone \n",
    "\n",
    "3.Wczytanie z pliku JSON opinii o produkcie którego statystyki maja być policzone \n",
    "\n",
    "4.Policzone podstawowe statystyk\n",
    "\n",
    "5.Przygotowanie wykresów \n",
    "\n",
    "     -Histogram częstości ocen produktów \n",
    "\n",
    "     -Wykres udziału rekomendacji o opiniach "
   ]
  },
  {
   "cell_type": "markdown",
   "metadata": {},
   "source": [
    "1.Import bibliotek\n"
   ]
  },
  {
   "cell_type": "code",
   "execution_count": 22,
   "metadata": {},
   "outputs": [],
   "source": [
    "import os\n",
    "import pandas as pd\n",
    "import numpy as np\n",
    "from matplotlib import pyplot as plt\n",
    "\n"
   ]
  },
  {
   "cell_type": "markdown",
   "metadata": {},
   "source": [
    "2.Wyświetlenie  listy kodów produktów o których zostały pobrane opinie "
   ]
  },
  {
   "cell_type": "code",
   "execution_count": 23,
   "metadata": {},
   "outputs": [
    {
     "name": "stdout",
     "output_type": "stream",
     "text": [
      "124893467\n",
      "49729622\n",
      "63717975\n",
      "63902751\n"
     ]
    }
   ],
   "source": [
    "print(*[filename.split(\".\")[0] for filename in os.listdir('opinions')], sep=\"\\n\")"
   ]
  },
  {
   "cell_type": "markdown",
   "metadata": {},
   "source": [
    "3.Pobranie od uzytkowników kodu produktu którego statystyki mają być policzone"
   ]
  },
  {
   "cell_type": "code",
   "execution_count": 24,
   "metadata": {},
   "outputs": [],
   "source": [
    "product_code =  input(\"Podaj kod produktu z z Ceno.pl\")\n",
    "url=f\"https://www.ceneo.pl/{product_code}#tab=reviews\""
   ]
  },
  {
   "cell_type": "markdown",
   "metadata": {},
   "source": [
    "4. Wczytanie z pliku JSON opinii o produkcie"
   ]
  },
  {
   "cell_type": "code",
   "execution_count": 33,
   "metadata": {},
   "outputs": [],
   "source": [
    "opinions = pd.read_json(f\"opinions/{product_code}.json\")\n",
    "opinions.stars = opinions.stars.apply(lambda s: s.split('/')[0].replace(',','.')).astype(float)\n"
   ]
  },
  {
   "cell_type": "markdown",
   "metadata": {},
   "source": [
    "5.Policzone podstawowe statystyk"
   ]
  },
  {
   "cell_type": "code",
   "execution_count": 34,
   "metadata": {},
   "outputs": [],
   "source": [
    "opinions_count = opinions.shape[0]\n",
    "pros_count = opinions[\"pros\"].astype(bool).sum()\n",
    "cons_count = opinions[\"cons\"].astype(bool).sum()\n",
    "average_stars = opinions[\"stars\"].mean()\n"
   ]
  },
  {
   "cell_type": "code",
   "execution_count": 37,
   "metadata": {},
   "outputs": [
    {
     "data": {
      "text/html": [
       "<div>\n",
       "<style scoped>\n",
       "    .dataframe tbody tr th:only-of-type {\n",
       "        vertical-align: middle;\n",
       "    }\n",
       "\n",
       "    .dataframe tbody tr th {\n",
       "        vertical-align: top;\n",
       "    }\n",
       "\n",
       "    .dataframe thead th {\n",
       "        text-align: right;\n",
       "    }\n",
       "</style>\n",
       "<table border=\"1\" class=\"dataframe\">\n",
       "  <thead>\n",
       "    <tr style=\"text-align: right;\">\n",
       "      <th></th>\n",
       "      <th>opinion_id</th>\n",
       "      <th>author</th>\n",
       "      <th>recommendation</th>\n",
       "      <th>stars</th>\n",
       "      <th>content</th>\n",
       "      <th>pros</th>\n",
       "      <th>cons</th>\n",
       "      <th>pros_date</th>\n",
       "      <th>purchase_date</th>\n",
       "      <th>useful</th>\n",
       "      <th>useless</th>\n",
       "    </tr>\n",
       "  </thead>\n",
       "  <tbody>\n",
       "    <tr>\n",
       "      <th>0</th>\n",
       "      <td>11065366</td>\n",
       "      <td>PAWEŁ</td>\n",
       "      <td>NaN</td>\n",
       "      <td>5.0</td>\n",
       "      <td>Super tania w eksploatacji drukarka. Na starci...</td>\n",
       "      <td>[None, None, None]</td>\n",
       "      <td>[]</td>\n",
       "      <td>NaN</td>\n",
       "      <td>NaN</td>\n",
       "      <td>NaN</td>\n",
       "      <td>NaN</td>\n",
       "    </tr>\n",
       "    <tr>\n",
       "      <th>1</th>\n",
       "      <td>16359180</td>\n",
       "      <td>k...a</td>\n",
       "      <td>NaN</td>\n",
       "      <td>5.0</td>\n",
       "      <td>Drukarkę mam dopiero jeden dzień, trudno oceni...</td>\n",
       "      <td>[None, None, None]</td>\n",
       "      <td>[]</td>\n",
       "      <td>NaN</td>\n",
       "      <td>NaN</td>\n",
       "      <td>NaN</td>\n",
       "      <td>NaN</td>\n",
       "    </tr>\n",
       "    <tr>\n",
       "      <th>2</th>\n",
       "      <td>11500113</td>\n",
       "      <td>Leszek</td>\n",
       "      <td>NaN</td>\n",
       "      <td>5.0</td>\n",
       "      <td>Bardzo fajna i tania drukarka. To już moja dru...</td>\n",
       "      <td>[]</td>\n",
       "      <td>[]</td>\n",
       "      <td>NaN</td>\n",
       "      <td>NaN</td>\n",
       "      <td>NaN</td>\n",
       "      <td>NaN</td>\n",
       "    </tr>\n",
       "    <tr>\n",
       "      <th>3</th>\n",
       "      <td>12024742</td>\n",
       "      <td>Użytkownik Ceneo</td>\n",
       "      <td>NaN</td>\n",
       "      <td>4.0</td>\n",
       "      <td>Bardzo bobra jakość wydruków. Bezproblemowa in...</td>\n",
       "      <td>[]</td>\n",
       "      <td>[]</td>\n",
       "      <td>NaN</td>\n",
       "      <td>NaN</td>\n",
       "      <td>NaN</td>\n",
       "      <td>NaN</td>\n",
       "    </tr>\n",
       "    <tr>\n",
       "      <th>4</th>\n",
       "      <td>17150684</td>\n",
       "      <td>k...8</td>\n",
       "      <td>NaN</td>\n",
       "      <td>5.0</td>\n",
       "      <td>Świetna drukarka, polecam ;)</td>\n",
       "      <td>[]</td>\n",
       "      <td>[]</td>\n",
       "      <td>NaN</td>\n",
       "      <td>NaN</td>\n",
       "      <td>NaN</td>\n",
       "      <td>NaN</td>\n",
       "    </tr>\n",
       "    <tr>\n",
       "      <th>5</th>\n",
       "      <td>8745615</td>\n",
       "      <td>Paweł</td>\n",
       "      <td>NaN</td>\n",
       "      <td>5.0</td>\n",
       "      <td>W poprzednich moich drukarkach atramentowych m...</td>\n",
       "      <td>[]</td>\n",
       "      <td>[]</td>\n",
       "      <td>NaN</td>\n",
       "      <td>NaN</td>\n",
       "      <td>NaN</td>\n",
       "      <td>NaN</td>\n",
       "    </tr>\n",
       "    <tr>\n",
       "      <th>6</th>\n",
       "      <td>13089101</td>\n",
       "      <td>r...y</td>\n",
       "      <td>NaN</td>\n",
       "      <td>5.0</td>\n",
       "      <td>Bardzo dobry sprzęt</td>\n",
       "      <td>[]</td>\n",
       "      <td>[]</td>\n",
       "      <td>NaN</td>\n",
       "      <td>NaN</td>\n",
       "      <td>NaN</td>\n",
       "      <td>NaN</td>\n",
       "    </tr>\n",
       "    <tr>\n",
       "      <th>7</th>\n",
       "      <td>12317852</td>\n",
       "      <td>Piotr</td>\n",
       "      <td>NaN</td>\n",
       "      <td>5.0</td>\n",
       "      <td>Świetne urządzenie!</td>\n",
       "      <td>[]</td>\n",
       "      <td>[]</td>\n",
       "      <td>NaN</td>\n",
       "      <td>NaN</td>\n",
       "      <td>NaN</td>\n",
       "      <td>NaN</td>\n",
       "    </tr>\n",
       "    <tr>\n",
       "      <th>8</th>\n",
       "      <td>12017253</td>\n",
       "      <td>Użytkownik Ceneo</td>\n",
       "      <td>NaN</td>\n",
       "      <td>5.0</td>\n",
       "      <td>Super jak to HP</td>\n",
       "      <td>[]</td>\n",
       "      <td>[]</td>\n",
       "      <td>NaN</td>\n",
       "      <td>NaN</td>\n",
       "      <td>NaN</td>\n",
       "      <td>NaN</td>\n",
       "    </tr>\n",
       "    <tr>\n",
       "      <th>9</th>\n",
       "      <td>12333929</td>\n",
       "      <td>Użytkownik Ceneo</td>\n",
       "      <td>NaN</td>\n",
       "      <td>5.0</td>\n",
       "      <td>Polecam</td>\n",
       "      <td>[]</td>\n",
       "      <td>[]</td>\n",
       "      <td>NaN</td>\n",
       "      <td>NaN</td>\n",
       "      <td>NaN</td>\n",
       "      <td>NaN</td>\n",
       "    </tr>\n",
       "    <tr>\n",
       "      <th>10</th>\n",
       "      <td>8294775</td>\n",
       "      <td>Ela</td>\n",
       "      <td>NaN</td>\n",
       "      <td>5.0</td>\n",
       "      <td>jest ok</td>\n",
       "      <td>[]</td>\n",
       "      <td>[]</td>\n",
       "      <td>NaN</td>\n",
       "      <td>NaN</td>\n",
       "      <td>NaN</td>\n",
       "      <td>NaN</td>\n",
       "    </tr>\n",
       "    <tr>\n",
       "      <th>11</th>\n",
       "      <td>15931323</td>\n",
       "      <td>d...z</td>\n",
       "      <td>NaN</td>\n",
       "      <td>5.0</td>\n",
       "      <td>super</td>\n",
       "      <td>[None, None, None]</td>\n",
       "      <td>[]</td>\n",
       "      <td>NaN</td>\n",
       "      <td>NaN</td>\n",
       "      <td>NaN</td>\n",
       "      <td>NaN</td>\n",
       "    </tr>\n",
       "    <tr>\n",
       "      <th>12</th>\n",
       "      <td>12752076</td>\n",
       "      <td>o...a</td>\n",
       "      <td>NaN</td>\n",
       "      <td>4.5</td>\n",
       "      <td>Ok.</td>\n",
       "      <td>[None, None, None]</td>\n",
       "      <td>[]</td>\n",
       "      <td>NaN</td>\n",
       "      <td>NaN</td>\n",
       "      <td>NaN</td>\n",
       "      <td>NaN</td>\n",
       "    </tr>\n",
       "    <tr>\n",
       "      <th>13</th>\n",
       "      <td>12059744</td>\n",
       "      <td>donleone</td>\n",
       "      <td>NaN</td>\n",
       "      <td>5.0</td>\n",
       "      <td>Bdb</td>\n",
       "      <td>[]</td>\n",
       "      <td>[]</td>\n",
       "      <td>NaN</td>\n",
       "      <td>NaN</td>\n",
       "      <td>NaN</td>\n",
       "      <td>NaN</td>\n",
       "    </tr>\n",
       "    <tr>\n",
       "      <th>14</th>\n",
       "      <td>8745566</td>\n",
       "      <td>Użytkownik Ceneo</td>\n",
       "      <td>NaN</td>\n",
       "      <td>5.0</td>\n",
       "      <td>5,0/5</td>\n",
       "      <td>[]</td>\n",
       "      <td>[]</td>\n",
       "      <td>NaN</td>\n",
       "      <td>NaN</td>\n",
       "      <td>NaN</td>\n",
       "      <td>NaN</td>\n",
       "    </tr>\n",
       "  </tbody>\n",
       "</table>\n",
       "</div>"
      ],
      "text/plain": [
       "    opinion_id            author  recommendation  stars  \\\n",
       "0     11065366             PAWEŁ             NaN    5.0   \n",
       "1     16359180             k...a             NaN    5.0   \n",
       "2     11500113            Leszek             NaN    5.0   \n",
       "3     12024742  Użytkownik Ceneo             NaN    4.0   \n",
       "4     17150684             k...8             NaN    5.0   \n",
       "5      8745615             Paweł             NaN    5.0   \n",
       "6     13089101             r...y             NaN    5.0   \n",
       "7     12317852             Piotr             NaN    5.0   \n",
       "8     12017253  Użytkownik Ceneo             NaN    5.0   \n",
       "9     12333929  Użytkownik Ceneo             NaN    5.0   \n",
       "10     8294775               Ela             NaN    5.0   \n",
       "11    15931323             d...z             NaN    5.0   \n",
       "12    12752076             o...a             NaN    4.5   \n",
       "13    12059744          donleone             NaN    5.0   \n",
       "14     8745566  Użytkownik Ceneo             NaN    5.0   \n",
       "\n",
       "                                              content                pros  \\\n",
       "0   Super tania w eksploatacji drukarka. Na starci...  [None, None, None]   \n",
       "1   Drukarkę mam dopiero jeden dzień, trudno oceni...  [None, None, None]   \n",
       "2   Bardzo fajna i tania drukarka. To już moja dru...                  []   \n",
       "3   Bardzo bobra jakość wydruków. Bezproblemowa in...                  []   \n",
       "4                        Świetna drukarka, polecam ;)                  []   \n",
       "5   W poprzednich moich drukarkach atramentowych m...                  []   \n",
       "6                                 Bardzo dobry sprzęt                  []   \n",
       "7                                 Świetne urządzenie!                  []   \n",
       "8                                     Super jak to HP                  []   \n",
       "9                                             Polecam                  []   \n",
       "10                                            jest ok                  []   \n",
       "11                                              super  [None, None, None]   \n",
       "12                                                Ok.  [None, None, None]   \n",
       "13                                                Bdb                  []   \n",
       "14                                              5,0/5                  []   \n",
       "\n",
       "   cons  pros_date  purchase_date  useful  useless  \n",
       "0    []        NaN            NaN     NaN      NaN  \n",
       "1    []        NaN            NaN     NaN      NaN  \n",
       "2    []        NaN            NaN     NaN      NaN  \n",
       "3    []        NaN            NaN     NaN      NaN  \n",
       "4    []        NaN            NaN     NaN      NaN  \n",
       "5    []        NaN            NaN     NaN      NaN  \n",
       "6    []        NaN            NaN     NaN      NaN  \n",
       "7    []        NaN            NaN     NaN      NaN  \n",
       "8    []        NaN            NaN     NaN      NaN  \n",
       "9    []        NaN            NaN     NaN      NaN  \n",
       "10   []        NaN            NaN     NaN      NaN  \n",
       "11   []        NaN            NaN     NaN      NaN  \n",
       "12   []        NaN            NaN     NaN      NaN  \n",
       "13   []        NaN            NaN     NaN      NaN  \n",
       "14   []        NaN            NaN     NaN      NaN  "
      ]
     },
     "execution_count": 37,
     "metadata": {},
     "output_type": "execute_result"
    }
   ],
   "source": [
    "opinions"
   ]
  },
  {
   "cell_type": "code",
   "execution_count": 38,
   "metadata": {},
   "outputs": [
    {
     "data": {
      "text/plain": [
       "4.9"
      ]
     },
     "execution_count": 38,
     "metadata": {},
     "output_type": "execute_result"
    }
   ],
   "source": [
    "opinions_count = opinions.shape[0]\n",
    "pros_count = opinions.pros.astype(bool).sum()\n",
    "cons_count = opinions.cons.astype(bool).sum()\n",
    "average_stars = opinions.stars.mean()\n",
    "average_stars\n",
    "\n"
   ]
  },
  {
   "cell_type": "markdown",
   "metadata": {},
   "source": [
    "5.Przygotowanie wykresów"
   ]
  },
  {
   "cell_type": "markdown",
   "metadata": {},
   "source": [
    "6.Histogram częstości występowania"
   ]
  },
  {
   "cell_type": "code",
   "execution_count": 40,
   "metadata": {},
   "outputs": [
    {
     "data": {
      "text/plain": [
       "(array([ 0,  1,  2,  3,  4,  5,  6,  7,  8,  9, 10]),\n",
       " [Text(0, 0, '0.0'),\n",
       "  Text(1, 0, '0.5'),\n",
       "  Text(2, 0, '1.0'),\n",
       "  Text(3, 0, '1.5'),\n",
       "  Text(4, 0, '2.0'),\n",
       "  Text(5, 0, '2.5'),\n",
       "  Text(6, 0, '3.0'),\n",
       "  Text(7, 0, '3.5'),\n",
       "  Text(8, 0, '4.0'),\n",
       "  Text(9, 0, '4.5'),\n",
       "  Text(10, 0, '5.0')])"
      ]
     },
     "execution_count": 40,
     "metadata": {},
     "output_type": "execute_result"
    },
    {
     "data": {
      "image/png": "[encoded data removed]",
      "text/plain": [
       "<Figure size 640x480 with 1 Axes>"
      ]
     },
     "metadata": {},
     "output_type": "display_data"
    }
   ],
   "source": [
    "stars_distr = opinions.stars.value_counts().reindex(np.arange(0,5.5,0.5),fill_value=0)\n",
    "stars_distr.plot.bar(color='orange')\n",
    "plt.title(f\"Histogram częstości ocen produktu {product_code}\")\n",
    "plt.xlabel(\"Liczba gwiazdek\")\n",
    "plt.ylabel(\"Liczba opinii\")\n",
    "plt.xticks(rotation=0)\n"
   ]
  },
  {
   "cell_type": "markdown",
   "metadata": {},
   "source": [
    "-Kołowy"
   ]
  },
  {
   "cell_type": "code",
   "execution_count": 43,
   "metadata": {},
   "outputs": [
    {
     "data": {
      "image/png": "[encoded data removed]",
      "text/plain": [
       "<Figure size 800x800 with 1 Axes>"
      ]
     },
     "metadata": {},
     "output_type": "display_data"
    }
   ],
   "source": [
    "recommendation_distr = opinions.recommendation.value_counts()\n",
    "star_counts = opinions[\"stars\"].value_counts().sort_values(ascending=False)\n",
    "\n",
    "labels = star_counts.index.to_numpy()\n",
    "colors = ['#ff9999', '#66b3ff', '#99ff99', '#ffcc99', '#c2c2f0']  \n",
    "\n",
    "# Create the pie chart\n",
    "plt.figure(figsize=(8, 8))  # Set figure size\n",
    "plt.pie(star_counts, labels=labels, autopct=\"%1.1f%%\", startangle=90, colors=colors)  \n",
    "plt.axis('equal')  # Ensure equal aspect ratio\n",
    "\n",
    "# Display the pie chart\n",
    "plt.show()"
   ]
  }
 ],
 "metadata": {
  "kernelspec": {
   "display_name": ".venv",
   "language": "python",
   "name": "python3"
  },
  "language_info": {
   "codemirror_mode": {
    "name": "ipython",
    "version": 3
   },
   "file_extension": ".py",
   "mimetype": "text/x-python",
   "name": "python",
   "nbconvert_exporter": "python",
   "pygments_lexer": "ipython3",
   "version": "3.12.0"
  }
 },
 "nbformat": 4,
 "nbformat_minor": 2
}
