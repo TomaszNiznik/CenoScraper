{
 "cells": [
  {
   "cell_type": "markdown",
   "metadata": {},
   "source": [
    "Ceno Scraper\n"
   ]
  },
  {
   "cell_type": "markdown",
   "metadata": {},
   "source": [
    "##Lista kroków  \"manulanych\"\n",
    "1. Wejście na stronę produktu / z opiniami o produkcie ceno.pl\n",
    "2.Dla każdej opini na stronie \n",
    "    2.1.Skopjuj opinię\n",
    "    2.2.Wklej opinie do edytora tekstu\n",
    "3.Przejdź do kolejnej strony z opiniami\n",
    "4.Powtarzaj kroki 2-3 dopóki są strony z opiniami\n",
    "\n",
    "#Lista kroków scrapera\n",
    "1.Wysłanie żądanie dostępu do zasobu - strona z opiniami o produkcie"
   ]
  },
  {
   "cell_type": "markdown",
   "metadata": {},
   "source": [
    "## Struktura opini w serwisie Ceno.pl\n",
    "\n",
    "|składowa|nazwa|selektor|\n",
    "|--------|-----|--------|\n",
    "|identyfikator opinii|opinion_id||\n",
    "|autor|author||\n",
    "|rekomendacja|recommednation||\n",
    "|treść opini|content|\n",
    "|listę zalet|pros||\n",
    "|listę wad|cons||\n",
    "|liczbę gwiazdek|||\n",
    "|data wystawienia opinii|post_date||\n",
    "|data zakupu produktu|purchase_date||\n",
    "|ile osób uznało opinię za przydatną|useful||\n",
    "|ile osób uznało opinię za nieprzydatną|useless||\n",
    " treść opinii\n"
   ]
  },
  {
   "cell_type": "markdown",
   "metadata": {},
   "source": [
    "63717975\n",
    "124893467\n",
    "49729622\n",
    "84514582\n",
    "61161229"
   ]
  },
  {
   "cell_type": "markdown",
   "metadata": {},
   "source": [
    "1.Import bibliotek\n"
   ]
  },
  {
   "cell_type": "code",
   "execution_count": 18,
   "metadata": {},
   "outputs": [],
   "source": [
    "import requests\n",
    "from bs4 import BeautifulSoup"
   ]
  },
  {
   "cell_type": "markdown",
   "metadata": {},
   "source": [
    "2.Wysłanie żądanie dostępu do zasobu(request)\n"
   ]
  },
  {
   "cell_type": "code",
   "execution_count": 19,
   "metadata": {},
   "outputs": [],
   "source": [
    "product_code = \"63717975\"\n",
    "url=f\"https://www.ceneo.pl/{product_code}#tab=reviews\"\n",
    "response = requests.get(url)"
   ]
  },
  {
   "cell_type": "markdown",
   "metadata": {},
   "source": [
    "3.Wydobycie z kodu HTML fragmetów odpowiadajacych  poszczególnym  opinon"
   ]
  },
  {
   "cell_type": "code",
   "execution_count": 20,
   "metadata": {},
   "outputs": [],
   "source": [
    "page = BeautifulSoup(response.text, \"html.parser\")\n",
    "optinions= page.select(\"div.js_product-review\")\n"
   ]
  },
  {
   "cell_type": "markdown",
   "metadata": {},
   "source": [
    "4.Wydobycie z kodu opini jej składowych dla każdej opinii na stronie "
   ]
  },
  {
   "cell_type": "code",
   "execution_count": 22,
   "metadata": {},
   "outputs": [
    {
     "ename": "IndentationError",
     "evalue": "expected an indented block after 'for' statement on line 1 (2838573392.py, line 2)",
     "output_type": "error",
     "traceback": [
      "\u001b[1;36m  Cell \u001b[1;32mIn[22], line 2\u001b[1;36m\u001b[0m\n\u001b[1;33m    print(opinion.get_text(strip=True))\u001b[0m\n\u001b[1;37m    ^\u001b[0m\n\u001b[1;31mIndentationError\u001b[0m\u001b[1;31m:\u001b[0m expected an indented block after 'for' statement on line 1\n"
     ]
    }
   ],
   "source": [
    "for opinion in optinions:\n",
    "    print(opinion.get_text(strip=True))"
   ]
  }
 ],
 "metadata": {
  "kernelspec": {
   "display_name": ".venv",
   "language": "python",
   "name": "python3"
  },
  "language_info": {
   "codemirror_mode": {
    "name": "ipython",
    "version": 3
   },
   "file_extension": ".py",
   "mimetype": "text/x-python",
   "name": "python",
   "nbconvert_exporter": "python",
   "pygments_lexer": "ipython3",
   "version": "3.12.0"
  }
 },
 "nbformat": 4,
 "nbformat_minor": 2
}
