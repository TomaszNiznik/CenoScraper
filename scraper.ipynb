{
 "cells": [
  {
   "cell_type": "markdown",
   "metadata": {},
   "source": [
    "Ceno Scraper\n"
   ]
  },
  {
   "cell_type": "markdown",
   "metadata": {},
   "source": [
    "##Lista kroków  \"manulanych\"\n",
    "1. Wejście na stronę produktu / z opiniami o produkcie ceno.pl\n",
    "2.Dla każdej opini na stronie \n",
    "    2.1.Skopjuj opinię\n",
    "    2.2.Wklej opinie do edytora tekstu\n",
    "3.Przejdź do kolejnej strony z opiniami\n",
    "4.Powtarzaj kroki 2-3 dopóki są strony z opiniami\n",
    "\n",
    "#Lista kroków scrapera\n",
    "1.Wysłanie żądanie dostępu do zasobu - strona z opiniami o produkcie"
   ]
  },
  {
   "cell_type": "markdown",
   "metadata": {},
   "source": [
    "## Struktura opini w serwisie Ceno.pl\n",
    "\n",
    "|składowa|nazwa|selektor|\n",
    "|--------|-----|--------|\n",
    "|identyfikator opinii|opinion_id|[\"data-entry-id\"]|\n",
    "|autor|author|span.user-post__author-name|\n",
    "|rekomendacja|recommednation|span.user-post__recomendation > em|\n",
    "|treść opini|content|div.user-post__text|\n",
    "|listę zalet|pros|div.review-feature__title--positivies ~ div.review-feature__item|\n",
    "|listę wad|cons|div.review-feature__title--negatives ~ div.review-feature__item|\n",
    "|liczbę gwiazdek|stars|span.user-post__score-count|\n",
    "|data wystawienia opinii|post_date|span.user-post__published >time:nth-child(1)[\"date-time\"]|\n",
    "|data zakupu produktu|purchase_date|pan.user-post__published >time:nth-child(2)[\"date-time\"]|\n",
    "|ile osób uznało opinię za przydatną|useful|button.vote-yes > span|\n",
    "|ile osób uznało opinię za nieprzydatną|useless|button.vote-no > span|\n",
    " treść opinii\n"
   ]
  },
  {
   "cell_type": "markdown",
   "metadata": {},
   "source": [
    "63717975\n",
    "124893467\n",
    "49729622\n",
    "84514582\n",
    "61161229"
   ]
  },
  {
   "cell_type": "markdown",
   "metadata": {},
   "source": [
    "1.Import bibliotek\n"
   ]
  },
  {
   "cell_type": "code",
   "execution_count": 18,
   "metadata": {},
   "outputs": [],
   "source": [
    "import os\n",
    "import json\n",
    "import requests\n",
    "from bs4 import BeautifulSoup"
   ]
  },
  {
   "cell_type": "markdown",
   "metadata": {},
   "source": [
    "2.Wysłanie żądanie dostępu do zasobu(request)\n"
   ]
  },
  {
   "cell_type": "code",
   "execution_count": 19,
   "metadata": {},
   "outputs": [],
   "source": [
    "product_code = \"63717975\"\n",
    "url=f\"https://www.ceneo.pl/{product_code}#tab=reviews\"\n",
    "response = requests.get(url)"
   ]
  },
  {
   "cell_type": "markdown",
   "metadata": {},
   "source": [
    "3.Wydobycie z kodu HTML fragmetów odpowiadajacych  poszczególnym  opinon"
   ]
  },
  {
   "cell_type": "code",
   "execution_count": 20,
   "metadata": {},
   "outputs": [],
   "source": [
    "page = BeautifulSoup(response.text, \"html.parser\")\n",
    "opinions= page.select(\"div.js_product-review\")\n"
   ]
  },
  {
   "cell_type": "markdown",
   "metadata": {},
   "source": [
    "4.Wydobycie z kodu opini jej składowych dla każdej opinii na stronie "
   ]
  },
  {
   "cell_type": "code",
   "execution_count": 23,
   "metadata": {},
   "outputs": [
    {
     "name": "stdout",
     "output_type": "stream",
     "text": [
      "{'opinion_id': '16455702', 'author': 'p...m', 'recommendation': None, 'stars': '5/5', 'content': 'Mała zgrabna drukarka do podstawowych domowych potrzeb. Jakość wydruku bardzo dobra. Drukuje szybko, około 20str/min. Łączność przez Wi-Fi genialna. Bez problemu drukuje z komputera czy telefonu. Nie używam na smartphonie aplikacji Brother wiec na ten temat się nie wypowiem ale przez aplikacje Printer Share działa genialnie. Jest bardzo mała więc bez problemu weszła do małej szafki. Przy zamkniętej klapie wydrukowane kartki wysuwają się przez szczelinę dzięki czemu klapa nie musi być uniesiona i się niepotrzebnie kurzyć. Na minus brak kabla w zestawie, który jest niezbędny aby połączyć drukarkę z siecią Wi-Fi. Poza tym drukarka sprawuje się świetnie.\\nPlusy:\\n-szybkie drukowanie\\n-bardzo dobra jakość druku\\n-mała zgrabna wielkość drukarki\\n-łączność przez Wi-Fi\\n-prosta obsługa\\nMinusy\\n-brak kabla w zestawie', 'pros': ['cena', 'głośność pracy', 'jakość wydruku', 'szybkość wydruku'], 'cons': [], 'pros_date': None, 'purchase_date': None, 'useful': '2', 'useless': '0'}\n",
      "{'opinion_id': '16631156', 'author': 'pechowiec6', 'recommendation': None, 'stars': '5/5', 'content': 'Zapewne pomyślicie sobie, że drukarka jak drukarka, co tu dużo o niej mówić. No i generalnie macie rację – ta drukarka to zwykła (chociaż niezwykła) drukarka, która po prostu robi to, co ma robić. Jestem studentem i potrzebowałem czegoś niedrogiego, do druku dokumentów i materiałów na studia. Wahałem się między wieloma drukarkami i urządzeniami wielofunkcyjnymi, ale ostatecznie wybór padł właśnie na tego Brothera i nie żałuję. \\n\\tDrukarka bezproblemowo łączy się z komputerem, drukuje błyskawicznie i niemalże bezgłośnie, jakościowo też jak najbardziej w porządku – wydruki są wyraźne i przejrzyste. Zawsze wydawało mi się, że drukowanie bezprzewodowe to zbędny bajer, ale teraz przyznaję, że nie wyobrażam sobie życia bez tego… Drukarka jest w gotowości, otwieram plik na telefonie, klikam drukuj i zrobione – po prostu bajka! Dodatkowo po zarejestrowaniu drukarki na stronie producenta, otrzymujemy bardzo miły dodatek w postaci 3-letniej gwarancji. Na plus także wygląd drukarki – chociaż była to dla mnie sprawa drugorzędna, to jednak takie małe, zgrabne urządzenie na biurku faktycznie cieszy oko. Minęło już trochę czasu od zakupu, wydrukowałem już dość sporo dokumentów, a wskaźnik tonera nadal pozostaje nietknięty – wielki pozytyw!\\n\\tJedynym minusem jest dla mnie fakt, że za każdym razem trzeba otwierać podajnik na papier i majstrować przy dość topornym suwaku – gdybyśmy zostawili podajnik otwarty, to kurz może przez papier dostać się do wnętrza drukarki. Mogło to zostać nieco lepiej przemyślane. Początkowy brak funkcji duplex może odstraszać, jednak zapewniam, manualne drukowanie dwustronne jest tutaj banalnie proste i można sobie bez tej dodatkowej opcji spokojnie poradzić. \\n\\tPodsumowując, drukarka przerosła wszystkie moje oczekiwania. W przystępnej cenie otrzymujemy znakomity sprzęt, bardzo wydajny toner, przyjemny wygląd, no i super możliwości. Z czystym sumieniem polecam!', 'pros': ['cena', 'głośność pracy', 'jakość / cena', 'jakość wydruku', 'kompaktowa budowa', 'szybkość wydruku', 'wydajność'], 'cons': ['podajnik na papier'], 'pros_date': None, 'purchase_date': None, 'useful': '5', 'useless': '0'}\n",
      "{'opinion_id': '12034558', 'author': 'Dariusz', 'recommendation': None, 'stars': '3,5/5', 'content': 'ładny design lecz jeśli papier jest załadowany to szuflada jest wysunięta i to już nie jest forma w której może stać i się kurzyć. Po drukowaniu trzeba wyjąć i schować papier do szuflady w biurku i wtedy można zamknąć dolny podajnik papieru w drukarce. Drukarka dosyć głośna. Rolki zostawiają ślady na papierze. Łatwo jest podłączyć Wifi. Drukarka z serii wyższej jest zdecydowanie cichsza i papier jest schowany w szufladzie. Wyższy model ma droższe tonery.', 'pros': [], 'cons': [], 'pros_date': None, 'purchase_date': None, 'useful': '21', 'useless': '0'}\n",
      "{'opinion_id': '17783182', 'author': 'a...t', 'recommendation': None, 'stars': '5/5', 'content': 'Nie jest to mercedes, ale patrząc na cenę to zakup trafiony. Mała, zgrabna i trochę delikatna. Instalacja bezproblemowa. Niektórzy stękają, ale nie raczyli najpierw przeczytać instrukcji. Szybka, trochę głośna.  Nie posiada czujnika braku papieru i kilka razy tłucze, aż się zatrzyma - byłem do czujnika przyzwyczajony w poprzedniej drukarce. Wydaje się, że będzie bardzo ekonomiczna. Drukowanie przez wifi dość proste, druk wg mnie za intensywny, a zdjęcia wychodzą prawie czarne (próbowałem drukować z kilku smartfonów). Nie znalazłem w ustawieniach druku przez WiFi ustawienia intensywności użycia tonera - ale taki druk w moim przypadku będzie sporadyczny. TONER STARTOWY JEST NA 1500 KARTEK.', 'pros': [], 'cons': [], 'pros_date': None, 'purchase_date': None, 'useful': '0', 'useless': '0'}\n",
      "{'opinion_id': '11736344', 'author': 'Użytkownik Ceneo', 'recommendation': None, 'stars': '4/5', 'content': 'Bardzo dobry stosunek jakości do ceny. W zestawie z drukarką odrazu bęben i toner. Szybko drukuje. Łatwe połączenie z WiFI. Bardzo kompaktowe wymiary. Zobaczymy jak z trwałością, jest 3 lata gwarancji. Z minusów brakuje automatycznego drukowania dwustronnego. Ale im prostsze urządzenie tym wydaje się być lepsze, zwłaszcza jeśli chodzi o drukarki i urządzenia biurowe. Zobaczymy jak z ekonomią natomiast ceny oryginalnych tonerów są przystępne.', 'pros': [], 'cons': [], 'pros_date': None, 'purchase_date': None, 'useful': '1', 'useless': '0'}\n",
      "{'opinion_id': '17572215', 'author': 'm...k', 'recommendation': None, 'stars': '5/5', 'content': 'Na ten moment drukarka spisuje się świetnie. Nie przekręca papieru jak słynny konkurent. Drukuje błyskawicznie. Oprogramowanie aktualne do Windows 10 i Windows 11, możliwość pobrania plików ze strony dla posiadaczy laptopów bez stacji CD. Jedyną wadą produktu jest brak kabla, bez którego nie udało się dokonać instalacji. Obecnie działa po kablu lub wifi. Nie testowałem jeszcze instalacji na Linux Ubuntu.', 'pros': [], 'cons': [], 'pros_date': None, 'purchase_date': None, 'useful': '0', 'useless': '0'}\n",
      "{'opinion_id': '17149341', 'author': 'r...n', 'recommendation': None, 'stars': '4/5', 'content': 'Nowe, działa, chociaż brak kabla połączeniowego drukarka-komputer. Bez niego nie mogę zainstalować drukarki jako sieciowej. Opinia więc tylko częściowa. I choć niczego nie wydrukowałem to działa, bo drukuje komunikaty o braku dostępu do sieci. Nie za duża, zgrabna, zobaczymy jak będą wyglądały koszty eksploatacyjne.', 'pros': ['cena', 'głośność pracy', 'jakość wydruku', 'szybkość wydruku'], 'cons': [], 'pros_date': None, 'purchase_date': None, 'useful': '0', 'useless': '0'}\n",
      "{'opinion_id': '14933601', 'author': 's...z', 'recommendation': None, 'stars': '5/5', 'content': 'Dobra drukarka do zastosowania biurowego, oraz do druku dzieciakom obrazków biało-czarnych. Szybka obsługa i konfiguracja. Jedynie co jest słabe to brak przewodu USB w zestawie. Wydaje mi się jednak że można skonfigurować drukarkę za pomocą zarówno przewodu USB jak i przez wi-fi.', 'pros': ['jakość wydruku', 'kompaktowa budowa', 'szybkość wydruku'], 'cons': [], 'pros_date': None, 'purchase_date': None, 'useful': '1', 'useless': '0'}\n",
      "{'opinion_id': '14933834', 'author': 'S...q', 'recommendation': None, 'stars': '4/5', 'content': 'Drukarka bardzo fajna - zajmuje mało miejsca. Szybko drukuje i niezłej jakości. Toner mamy ponad rok. Z minusów - bardzo słaba aplikacja i łączenie z iphonem oraz pojawiły mi sie na wydrukach kropki ale to pewnie związane jest z kończącym się tonerem. Fajny sprzęt jak za tą cenę', 'pros': ['cena', 'jakość wydruku', 'szybkość wydruku'], 'cons': ['głośność pracy'], 'pros_date': None, 'purchase_date': None, 'useful': '1', 'useless': '0'}\n",
      "{'opinion_id': '13447431', 'author': 'Grzegorz Marcin', 'recommendation': None, 'stars': '4/5', 'content': 'Fajna mała zgrabna, obsługa z telefonu to duży plus choć trwa to chwilę, ale to nie wyścigi. Jedna gwiazdka mniej za brak kabla USB i za brak miejsca na papier gdy chcemy zamknąć przednie \"drzwi\" Generalnie jest ok. Cena materiałów bardzo na plus. Taniej chyba się nie da.', 'pros': ['cena', 'głośność pracy', 'jakość / cena', 'kompaktowa budowa', 'łatwość instalacji', 'suprer wifi', 'szybkość wydruku'], 'cons': [], 'pros_date': None, 'purchase_date': None, 'useful': '0', 'useless': '0'}\n"
     ]
    }
   ],
   "source": [
    "all_opinions = []\n",
    "for opinion in opinions:\n",
    "    single_opinion = {\n",
    "        'opinion_id': opinion[\"data-entry-id\"],\n",
    "        'author': opinion.select_one(\"span.user-post__author-name\").text.strip(),\n",
    "        'recommendation': opinion.select_one(\"span.user-post__recommendation > em\").text.strip() if opinion.select_one(\"span.user-post__recommendation > em\") else None,\n",
    "        'stars': opinion.select_one(\"span.user-post__score-count\").text.strip(),\n",
    "        'content': opinion.select_one(\"div.user-post__text\").text.strip(),\n",
    "        'pros': [p.text.strip() for p in opinion.select(\"div.review-feature__title--positives ~ div.review-feature__item\")],\n",
    "        'cons': [c.text.strip() for c in opinion.select(\"div.review-feature__title--negatives ~ div.review-feature__item\")],\n",
    "        'pros_date': opinion.select_one(\"span.user-post__published > time:nth-child(1)\").get(\"date-time\", None),\n",
    "        'purchase_date': opinion.select_one(\"span.user-post__published > time:nth-child(2)\").get(\"date-time\", None),\n",
    "        'useful': opinion.select_one(\"button.vote-yes > span\").text.strip(),\n",
    "        'useless': opinion.select_one(\"button.vote-no > span\").text.strip(),\n",
    "    }\n",
    "    all_opinions.append(single_opinion)\n",
    "    print(single_opinion)\n",
    "\n",
    "\n"
   ]
  },
  {
   "cell_type": "markdown",
   "metadata": {},
   "source": [
    "5.Zapis opini do pliku JSON\n"
   ]
  },
  {
   "cell_type": "code",
   "execution_count": 24,
   "metadata": {},
   "outputs": [],
   "source": [
    "if not os.path.exists(\"opinions\"):\n",
    "    os.mkdir(\"opinions\")\n",
    "jf = open(f\"{product_code}.json\",\"w\",encoding=\"UTF-8\")\n",
    "json.dump(all_opinions,jf, indent=4, ensure_ascii=False)\n",
    "jf.close()"
   ]
  }
 ],
 "metadata": {
  "kernelspec": {
   "display_name": ".venv",
   "language": "python",
   "name": "python3"
  },
  "language_info": {
   "codemirror_mode": {
    "name": "ipython",
    "version": 3
   },
   "file_extension": ".py",
   "mimetype": "text/x-python",
   "name": "python",
   "nbconvert_exporter": "python",
   "pygments_lexer": "ipython3",
   "version": "3.12.0"
  }
 },
 "nbformat": 4,
 "nbformat_minor": 2
}
